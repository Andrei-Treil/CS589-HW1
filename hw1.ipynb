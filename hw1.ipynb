{
 "cells": [
  {
   "cell_type": "code",
   "execution_count": 2,
   "metadata": {},
   "outputs": [],
   "source": [
    "import math\n",
    "from collections import defaultdict\n",
    "import pandas as pd\n",
    "import numpy as np\n",
    "from sklearn.model_selection import train_test_split\n",
    "import matplotlib.pyplot as plt"
   ]
  },
  {
   "attachments": {},
   "cell_type": "markdown",
   "metadata": {},
   "source": [
    "## 1. Evaluating the k-NN Algorithm"
   ]
  },
  {
   "cell_type": "code",
   "execution_count": 17,
   "metadata": {},
   "outputs": [],
   "source": [
    "df = pd.read_csv(\"iris.csv\", header=None)\n",
    "np.random.seed(0)\n",
    "#store results of iterations in dict\n",
    "test_res = defaultdict(list)\n",
    "train_res = defaultdict(list)\n",
    "test_no_norm = defaultdict(list)\n",
    "\n",
    "for iteration in range(20):\n",
    "    #shuffle data\n",
    "    ds = df.sample(frac=1)\n",
    "\n",
    "    #split data into 80% train, 20% test\n",
    "    train, test = train_test_split(ds,test_size=0.2)\n",
    "    train_att = train[[0,1,2,3]]\n",
    "    test_att = test[[0,1,2,3]]\n",
    "\n",
    "    #normalize data\n",
    "    train_norm = (train_att - train_att.min()) / (train_att.max() - train_att.min())\n",
    "    test_norm = (test_att - train_att.min()) / (train_att.max() - train_att.min())\n",
    "    train_norm.fillna(0, inplace=True)\n",
    "    test_norm.fillna(0, inplace=True)\n",
    "\n",
    "    '''\n",
    "    k - number of neighbors\n",
    "    data - dataset\n",
    "    instance - instance to classify\n",
    "    '''\n",
    "    def knn(k,data,instance):\n",
    "        distances = data.apply(lambda row: math.dist(row,instance), axis=1)\n",
    "        #get k closest instances (including the input instance)\n",
    "        k_neighbors = distances.sort_values()[:k]\n",
    "        #get class value with largest number of occurences\n",
    "        predicted_class = df.loc[k_neighbors.index,[4]][4].mode()\n",
    "        return predicted_class[0]\n",
    "\n",
    "    '''\n",
    "    train knn using training data\n",
    "    return the accuracy of the model\n",
    "    examples - specify training set\n",
    "    '''\n",
    "    def train_knn(k,data,examples):\n",
    "        predictions = data.apply(lambda row: knn(k,examples,row), axis=1)\n",
    "        actual_labels = df.loc[predictions.index,[4]]\n",
    "        return predictions.eq(actual_labels[4].values).mean()\n",
    "\n",
    "    for i in range(1,51,2):\n",
    "        train_res[i].append(train_knn(i,train_norm,train_norm))\n",
    "        test_res[i].append(train_knn(i,test_norm,train_norm))\n",
    "        test_no_norm[i].append(train_knn(i,test_att,train_att))"
   ]
  },
  {
   "attachments": {},
   "cell_type": "markdown",
   "metadata": {},
   "source": [
    "**Q1.1 (10 Points)** In the first graph, you should show the value of k on the horizontal axis,\n",
    "and on the vertical axis, the average accuracy of models trained over the training set, given\n",
    "that particular value of k. Also show, for each point in the graph, the corresponding standard\n",
    "deviation; you should do this by adding error bars to each point. The graph should look like the\n",
    "one in Figure 2 (though the “shape” of the curve you obtain may be different, of course)."
   ]
  },
  {
   "cell_type": "code",
   "execution_count": 21,
   "metadata": {},
   "outputs": [
    {
     "data": {
      "image/png": "[encoded data removed]",
      "text/plain": [
       "<Figure size 432x288 with 1 Axes>"
      ]
     },
     "metadata": {
      "needs_background": "light"
     },
     "output_type": "display_data"
    }
   ],
   "source": [
    "train_iter = []\n",
    "train_acc = []\n",
    "train_std = []\n",
    "\n",
    "for k_val,res in train_res.items():\n",
    "    train_iter.append(k_val)\n",
    "    train_acc.append(np.average(res))\n",
    "    train_std.append(np.std(res))\n",
    "\n",
    "plt.plot(train_iter,train_acc)\n",
    "plt.errorbar(train_iter,train_acc,yerr = train_std,fmt='o',capsize=4)\n",
    "plt.xlabel(\"K value\")\n",
    "plt.ylabel(\"Accuracy\")\n",
    "plt.title(\"Training Data\")\n",
    "plt.show()"
   ]
  },
  {
   "attachments": {},
   "cell_type": "markdown",
   "metadata": {},
   "source": [
    "**Q1.2 (10 Points)** In the second graph, you should show the value of k on the horizontal axis,\n",
    "and on the vertical axis, the average accuracy of models trained over the testing set, given\n",
    "that particular value of k. Also show, for each point in the graph, the corresponding standard\n",
    "deviation by adding error bars to the point."
   ]
  },
  {
   "cell_type": "code",
   "execution_count": 22,
   "metadata": {},
   "outputs": [
    {
     "data": {
      "image/png": "[encoded data removed]",
      "text/plain": [
       "<Figure size 432x288 with 1 Axes>"
      ]
     },
     "metadata": {
      "needs_background": "light"
     },
     "output_type": "display_data"
    }
   ],
   "source": [
    "test_iter = []\n",
    "test_acc = []\n",
    "test_std = []\n",
    "\n",
    "for k_val,res in test_res.items():\n",
    "    test_iter.append(k_val)\n",
    "    test_acc.append(np.average(res))\n",
    "    test_std.append(np.std(res))\n",
    "\n",
    "\n",
    "plt.plot(test_iter,test_acc)\n",
    "plt.errorbar(test_iter,test_acc,yerr = test_std,fmt='o',capsize=4)\n",
    "plt.xlabel(\"K value\")\n",
    "plt.ylabel(\"Accuracy\")\n",
    "plt.title(\"Test Data\")\n",
    "plt.show()"
   ]
  },
  {
   "attachments": {},
   "cell_type": "markdown",
   "metadata": {},
   "source": [
    "**Q1.3 (8 Points)** Explain intuitively why each of these curves look the way they do. First,\n",
    "analyze the graph showing performance on the training set as a function of k. Why do you think\n",
    "the graph looks like that? Next, analyze the graph showing performance on the testing set as a\n",
    "function of k. Why do you think the graph looks like that?\n",
    "\n",
    ">For the graph showing performance on the training set, for K = 1 the accuracy is 1.00 due to the fact that we do not ignore the instance being tested in our KNN algorithm. This means that the algorithm will always group instances from the training sets with themselves. The std deviation for each point generally increases for increased values of K. This makes sense because as larger groups are formed, it is likelier that data points are incorrectly labeled.\n",
    "For the graph showing performance on the testing set, the accuracy maxes out at around 0.96 for K = 9. There is a general decrease in accuracy as K increases but for low values of K there is slight growth. The std deviation for each point is roughly the same and is significantly larger than in the training set. This is likely due to the fact that both the training and testing sets are normalized according to the training set, and that the testing set is significantly smaller than the training set.\n",
    "\n",
    "**Q1.4 (6 Points)** We say that a model is underfitting when it performs poorly on the training\n",
    "data (and most likely on the testing data as well). We say that a model is overfitting when it\n",
    "performs well on training data but it does not generalize to new instances. Identify and report\n",
    "the ranges of values of k for which k-NN is underfitting, and ranges of values of k for which\n",
    "k-NN is overfitting.\n",
    "\n",
    ">For K values from 1-15 the model is overfitting. For K values from 15-51, the model is still overfitting, but it becomes increasingly underfitting.\n",
    "\n",
    "**Q1.5 (6 Points)** Based on the analyses made in the previous question, which value of k you\n",
    "would select if you were trying to fine-tune this algorithm so that it worked as well as possible in\n",
    "real life? Justify your answer.\n",
    "\n",
    ">I would select a K value of about 15, as this is when the model starts to switch from overfitting to underfitting. In both the training and testing data, the accuracy is around 0.96 at K = 15, meaning the estimates for both sets are similarly accurate (although the testing data shows a significantly greater std deviation).\n",
    "\n",
    "**Q1.6 (10 Points)** In the experiments conducted earlier, you normalized the features before\n",
    "running k-NN. This is the appropriate procedure to ensure that all features are considered\n",
    "equally important when computing distances. Now, you will study the impact of omitting feature\n",
    "normalization on the performance of the algorithm. To accomplish this, you will repeat Q1.2\n",
    "and create a graph depicting the average accuracy (and corresponding standard deviation) of\n",
    "k-NN as a function of k, when evaluated on the testing set. However, this time you will run the\n",
    "algorithm without first normalizing the features. This means that you will run k-NN directly on\n",
    "the instances present in the original dataset without performing any pre-processing normalization\n",
    "steps to ensure that all features lie in the same range/interval. \n",
    "Now (a) present the graph you created;"
   ]
  },
  {
   "cell_type": "code",
   "execution_count": 23,
   "metadata": {},
   "outputs": [
    {
     "data": {
      "image/png": "[encoded data removed]",
      "text/plain": [
       "<Figure size 432x288 with 1 Axes>"
      ]
     },
     "metadata": {
      "needs_background": "light"
     },
     "output_type": "display_data"
    }
   ],
   "source": [
    "test_iter_raw = []\n",
    "test_acc_raw = []\n",
    "test_std_raw = []\n",
    "\n",
    "for k_val,res in test_no_norm.items():\n",
    "    test_iter_raw.append(k_val)\n",
    "    test_acc_raw.append(np.average(res))\n",
    "    test_std_raw.append(np.std(res))\n",
    "\n",
    "\n",
    "plt.plot(test_iter_raw,test_acc_raw)\n",
    "plt.errorbar(test_iter_raw,test_acc_raw,yerr = test_std_raw,fmt='o',capsize=4)\n",
    "plt.xlabel(\"K value\")\n",
    "plt.ylabel(\"Accuracy\")\n",
    "plt.title(\"Test Data (No Normalization)\")\n",
    "plt.show()"
   ]
  },
  {
   "attachments": {},
   "cell_type": "markdown",
   "metadata": {},
   "source": [
    "(b) based on this graph, identify the best value of k; that is, the value of k that results\n",
    "in k-NN performing the best on the testing set; \n",
    "\n",
    ">Based on this graph, I would choose a value of K closer to 20, either 17 or 19. This is because the accuracy is higher around these points and the std deviation is lower when compared to the normalized graphs.\n",
    "\n",
    "and (c) describe how the performance of this\n",
    "version of k-NN (without feature normalization) compares with the performance of k-NN with\n",
    "feature normalization. Discuss intuitively the reasons why one may have performed better than\n",
    "the other.\n",
    "\n",
    ">This version of KNN seems to perform better than the version with normalization. The accuracy of the non-normalized KNN is slightly higher and the std deviation is lower in the K = 15-20 range. The reasons for this improved accuracy and deviation may be due to the fact that normalizing the test data on the training data could cause the model to overfit to the training data."
   ]
  },
  {
   "attachments": {},
   "cell_type": "markdown",
   "metadata": {},
   "source": [
    "## 2. Evaluating the Decision Tree Algorithm"
   ]
  },
  {
   "cell_type": "code",
   "execution_count": 6,
   "metadata": {},
   "outputs": [],
   "source": [
    "class DecisionNode():\n",
    "    '''\n",
    "    Constructor for decision node\n",
    "    attr - attribute to be tested on\n",
    "    child_0 - child node for 0 value on attr\n",
    "    child_1 - child node for 1 value on attr\n",
    "    child_2 - child node for 2 value on attr\n",
    "    label - class label. default None, if not none, indicates that this is a leaf\n",
    "    '''\n",
    "    def __init__(self, attr, child_0, child_1, child_2, label=None):\n",
    "        self.attr = attr\n",
    "        self.child_0 = child_0\n",
    "        self.child_1 = child_1\n",
    "        self.child_2 = child_2\n",
    "        self.label = label\n",
    "\n",
    "def learn_tree(data,attr_list):\n",
    "    #if all entries have same class, return leaf node of that class\n",
    "    if len(data['target'].unique()) == 1:\n",
    "        return DecisionNode(None,None,None,None,data['target'].unique()[0])\n",
    "    #if no more attr to be tested, return leaf w majority class\n",
    "    if len(attr_list) == 0:\n",
    "        return DecisionNode(None,None,None,None,data['target'].mode()[0])\n",
    "\n",
    "    #find best attr from list using info gain\n",
    "    max_gain = float('-inf')\n",
    "    best_attr = ''\n",
    "    for attr in attr_list:\n",
    "        ig_attr = get_info_gain(data,attr)\n",
    "        if ig_attr > max_gain:\n",
    "            max_gain = ig_attr\n",
    "            best_attr = attr\n",
    "\n",
    "    #remove attr from list\n",
    "    attr_list.remove(best_attr)\n",
    "    \n",
    "    #create children, if no data with that value, create leaf node\n",
    "    child_0 = learn_tree(data.loc[data[best_attr] == 0],attr_list) if len(data.loc[data[best_attr] == 0]) > 0 else DecisionNode(None,None,None,None,data['target'].mode()[0])\n",
    "    child_1 = learn_tree(data.loc[data[best_attr] == 1],attr_list) if len(data.loc[data[best_attr] == 1]) > 0 else DecisionNode(None,None,None,None,data['target'].mode()[0])\n",
    "    child_2 = learn_tree(data.loc[data[best_attr] == 2],attr_list) if len(data.loc[data[best_attr] == 2]) > 0 else DecisionNode(None,None,None,None,data['target'].mode()[0])\n",
    "    \n",
    "    return DecisionNode(best_attr,child_0,child_1,child_2)\n",
    "\n",
    "def get_info_gain(data,attr):\n",
    "    data_0 = data.loc[data[attr] == 0]\n",
    "    data_1 = data.loc[data[attr] == 1]\n",
    "    data_2 = data.loc[data[attr] == 2]\n",
    "    split_entropy = (entropy(data_0)*len(data_0) + entropy(data_1)*len(data_1) + entropy(data_2)*len(data_2))/len(data)\n",
    "\n",
    "    return entropy(data) - split_entropy\n",
    "\n",
    "def entropy(data):\n",
    "    if len(data) == 0:\n",
    "        return 0\n",
    "    prob_0 = data['target'].value_counts().iloc[0]/len(data)\n",
    "    ent = -(prob_0 * math.log(prob_0,2))\n",
    "    if len(data['target'].value_counts()) > 1:\n",
    "        prob_1 = data['target'].value_counts().iloc[1]/len(data)\n",
    "        ent -= (prob_1 * math.log(prob_1,2))\n",
    "    else:\n",
    "        pass\n",
    "    return ent\n",
    "\n",
    "#train tree on training data\n",
    "voter_df = pd.read_csv('house_votes_84.csv')\n",
    "\n"
   ]
  },
  {
   "cell_type": "code",
   "execution_count": 22,
   "metadata": {},
   "outputs": [
    {
     "data": {
      "image/png": "[encoded data removed]",
      "text/plain": [
       "<Figure size 432x288 with 1 Axes>"
      ]
     },
     "metadata": {
      "needs_background": "light"
     },
     "output_type": "display_data"
    }
   ],
   "source": [
    "#function to classify an instance based on decision tree\n",
    "def classify(instance):\n",
    "    node = decision_tree\n",
    "    while node.label is None:\n",
    "        if instance[node.attr] == 0:\n",
    "            node = node.child_0\n",
    "        elif instance[node.attr] == 1:\n",
    "            node = node.child_1\n",
    "        else:\n",
    "            node = node.child_2\n",
    "    guess = node.label\n",
    "    actual = instance['target']\n",
    "    return guess\n",
    "\n",
    "#test accuracy on training data\n",
    "def test_decision():\n",
    "    predictions = voter_train.apply(lambda row: classify(row), axis=1)\n",
    "    actual_labels = voter_df.loc[predictions.index,['target']]\n",
    "    return predictions.eq(actual_labels['target'].values).mean()\n",
    "\n",
    "cat = test_decision()\n",
    "accuracy_train = []\n",
    "\n",
    "for i in range (100):\n",
    "    voter_train, voter_test = train_test_split(voter_df,test_size=0.2)\n",
    "    attributes = list(voter_train.columns.values)\n",
    "    attributes.remove('target')\n",
    "    decision_tree = learn_tree(voter_train,attributes)\n",
    "    accuracy_train.append(test_decision())\n"
   ]
  },
  {
   "cell_type": "code",
   "execution_count": 140,
   "metadata": {},
   "outputs": [
    {
     "data": {
      "text/plain": [
       "<function matplotlib.pyplot.show(close=None, block=None)>"
      ]
     },
     "execution_count": 140,
     "metadata": {},
     "output_type": "execute_result"
    },
    {
     "data": {
      "image/png": "[encoded data removed]",
      "text/plain": [
       "<Figure size 432x288 with 1 Axes>"
      ]
     },
     "metadata": {
      "needs_background": "light"
     },
     "output_type": "display_data"
    }
   ],
   "source": [
    "num_bins = len(set(accuracy_train))\n",
    "plt.hist(accuracy_train,bins=num_bins,edgecolor='white',linewidth=5)\n",
    "plt.ylabel(\"Accuracy Frequency on Testing Data\")\n",
    "plt.xlabel(\"Accuracy\")\n",
    "plt.title(\"Decision Tree on Training Data\")\n",
    "plt.text(0.98,17.5,f'mean:{np.mean(accuracy_train):.2f} sd:{np.std(accuracy_train):.2f}')\n",
    "plt.show"
   ]
  }
 ],
 "metadata": {
  "kernelspec": {
   "display_name": "Python 3",
   "language": "python",
   "name": "python3"
  },
  "language_info": {
   "codemirror_mode": {
    "name": "ipython",
    "version": 3
   },
   "file_extension": ".py",
   "mimetype": "text/x-python",
   "name": "python",
   "nbconvert_exporter": "python",
   "pygments_lexer": "ipython3",
   "version": "3.9.13"
  },
  "orig_nbformat": 4,
  "vscode": {
   "interpreter": {
    "hash": "52fef9f371462526e6c16fbedf2b5b9bc32d90752958a415cf9672d41d7c1c70"
   }
  }
 },
 "nbformat": 4,
 "nbformat_minor": 2
}
