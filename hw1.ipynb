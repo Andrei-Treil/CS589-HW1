{
 "cells": [
  {
   "cell_type": "code",
   "execution_count": 1,
   "metadata": {},
   "outputs": [],
   "source": [
    "import math\n",
    "from collections import defaultdict\n",
    "import pandas as pd\n",
    "import numpy as np\n",
    "from sklearn.model_selection import train_test_split"
   ]
  },
  {
   "cell_type": "code",
   "execution_count": 4,
   "metadata": {},
   "outputs": [],
   "source": [
    "df = pd.read_csv(\"iris.csv\", header=None)\n",
    "#shuffle data\n",
    "ds = df.sample(frac=1)\n",
    "#split data into 80% train, 20% test\n",
    "train, test = train_test_split(ds,test_size=0.2)\n",
    "train_att = train[[0,1,2,3]]\n",
    "test_att = test[[0,1,2,3]]\n",
    "#normalize data\n",
    "train_norm = (train_att - train_att.mean()) / train_att.std()\n",
    "test_norm = (test_att - train_att.mean()) / train_att.std()\n",
    "train_norm.fillna(0, inplace=True)\n",
    "test_norm.fillna(0, inplace=True)"
   ]
  },
  {
   "cell_type": "code",
   "execution_count": 11,
   "metadata": {},
   "outputs": [
    {
     "data": {
      "text/plain": [
       "'Iris-virginica'"
      ]
     },
     "execution_count": 11,
     "metadata": {},
     "output_type": "execute_result"
    }
   ],
   "source": [
    "'''\n",
    "k - number of neighbors\n",
    "data - dataset\n",
    "instance - instance to classify\n",
    "'''\n",
    "def knn(k,data,instance):\n",
    "    distances = data.apply(lambda row: math.dist(row,instance), axis=1)\n",
    "    #get k closest instances (including the input instance)\n",
    "    k_neighbors = distances.sort_values()[:k]\n",
    "    #get class value with largest number of occurences\n",
    "    predicted_class = df.loc[k_neighbors.index,[4]][4].mode()\n",
    "    return predicted_class[0]\n",
    "\n",
    "knn(5,train_norm,train_norm.iloc[1])"
   ]
  },
  {
   "cell_type": "code",
   "execution_count": 13,
   "metadata": {},
   "outputs": [
    {
     "data": {
      "text/plain": [
       "0.9666666666666667"
      ]
     },
     "execution_count": 13,
     "metadata": {},
     "output_type": "execute_result"
    }
   ],
   "source": [
    "'''\n",
    "train knn using training data\n",
    "return the accuracy of the model\n",
    "'''\n",
    "def train_knn(k,data):\n",
    "    predictions = data.apply(lambda row: knn(k,data,row), axis=1)\n",
    "    actual_labels = df.loc[predictions.index,[4]]\n",
    "    return predictions.eq(actual_labels[4].values).mean()\n",
    "\n",
    "train_knn(5,train_norm)"
   ]
  }
 ],
 "metadata": {
  "kernelspec": {
   "display_name": "Python 3",
   "language": "python",
   "name": "python3"
  },
  "language_info": {
   "codemirror_mode": {
    "name": "ipython",
    "version": 3
   },
   "file_extension": ".py",
   "mimetype": "text/x-python",
   "name": "python",
   "nbconvert_exporter": "python",
   "pygments_lexer": "ipython3",
   "version": "3.9.13"
  },
  "orig_nbformat": 4,
  "vscode": {
   "interpreter": {
    "hash": "52fef9f371462526e6c16fbedf2b5b9bc32d90752958a415cf9672d41d7c1c70"
   }
  }
 },
 "nbformat": 4,
 "nbformat_minor": 2
}
